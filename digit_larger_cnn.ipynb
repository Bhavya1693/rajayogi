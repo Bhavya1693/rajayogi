{
  "nbformat": 4,
  "nbformat_minor": 0,
  "metadata": {
    "colab": {
      "name": "Untitled4.ipynb",
      "version": "0.3.2",
      "provenance": [],
      "include_colab_link": true
    },
    "kernelspec": {
      "name": "python3",
      "display_name": "Python 3"
    }
  },
  "cells": [
    {
      "cell_type": "markdown",
      "metadata": {
        "id": "view-in-github",
        "colab_type": "text"
      },
      "source": [
        "<a href=\"https://colab.research.google.com/github/Rajayogi/rajayogi/blob/master/digit_larger_cnn.ipynb\" target=\"_parent\"><img src=\"https://colab.research.google.com/assets/colab-badge.svg\" alt=\"Open In Colab\"/></a>"
      ]
    },
    {
      "metadata": {
        "id": "1Pqj6KHKAdZF",
        "colab_type": "code",
        "outputId": "e020c62a-b165-475e-ed73-51626e61819c",
        "colab": {
          "base_uri": "https://localhost:8080/",
          "height": 67
        }
      },
      "cell_type": "code",
      "source": [
        "# Larger CNN for the MNIST Dataset\n",
        "import numpy\n",
        "from keras.datasets import mnist\n",
        "from keras.models import Sequential\n",
        "from keras.layers import Dense\n",
        "from keras.layers import Dropout\n",
        "from keras.layers import Flatten\n",
        "from keras.layers.convolutional import Conv2D\n",
        "from keras.layers.convolutional import MaxPooling2D\n",
        "from keras.utils import np_utils\n",
        "from keras import backend as K\n",
        "K.set_image_dim_ordering('th')\n",
        "# fix random seed for reproducibility\n",
        "seed = 7\n",
        "numpy.random.seed(seed)\n",
        "# load data\n",
        "(X_train, y_train), (X_test, y_test) = mnist.load_data()\n",
        "# reshape to be [samples][pixels][width][height]\n",
        "X_train = X_train.reshape(X_train.shape[0], 1, 28, 28).astype('float32')\n",
        "X_test = X_test.reshape(X_test.shape[0], 1, 28, 28).astype('float32')\n",
        "# normalize inputs from 0-255 to 0-1\n",
        "X_train = X_train / 255\n",
        "X_test = X_test / 255\n",
        "# one hot encode outputs\n",
        "y_train = np_utils.to_categorical(y_train)\n",
        "y_test = np_utils.to_categorical(y_test)\n",
        "num_classes = y_test.shape[1]"
      ],
      "execution_count": 2,
      "outputs": [
        {
          "output_type": "stream",
          "text": [
            "Using TensorFlow backend.\n"
          ],
          "name": "stderr"
        },
        {
          "output_type": "stream",
          "text": [
            "Downloading data from https://s3.amazonaws.com/img-datasets/mnist.npz\n",
            "11493376/11490434 [==============================] - 0s 0us/step\n"
          ],
          "name": "stdout"
        }
      ]
    },
    {
      "metadata": {
        "id": "X1KOPuoOAeuK",
        "colab_type": "code",
        "colab": {}
      },
      "cell_type": "code",
      "source": [
        "# define the larger model\n",
        "def larger_model():\n",
        "\t# create model\n",
        "\tmodel = Sequential()\n",
        "\tmodel.add(Conv2D(30, (5, 5), input_shape=(1, 28, 28), activation='relu'))\n",
        "\tmodel.add(MaxPooling2D(pool_size=(2, 2)))\n",
        "\tmodel.add(Conv2D(15, (3, 3), activation='relu'))\n",
        "\tmodel.add(MaxPooling2D(pool_size=(2, 2)))\n",
        "\tmodel.add(Dropout(0.2))\n",
        "\tmodel.add(Flatten())\n",
        "\tmodel.add(Dense(128, activation='relu'))\n",
        "\tmodel.add(Dense(50, activation='relu'))\n",
        "\tmodel.add(Dense(num_classes, activation='softmax'))\n",
        "\t# Compile model\n",
        "\tmodel.compile(loss='categorical_crossentropy', optimizer='adam', metrics=['accuracy'])\n",
        "\treturn model"
      ],
      "execution_count": 0,
      "outputs": []
    },
    {
      "metadata": {
        "id": "4fRt1H4pAkcY",
        "colab_type": "code",
        "outputId": "dd2deb33-749e-452e-8578-eda26128f6a4",
        "colab": {
          "base_uri": "https://localhost:8080/",
          "height": 558
        }
      },
      "cell_type": "code",
      "source": [
        "# build the model\n",
        "model = larger_model()\n",
        "# Fit the model\n",
        "model.fit(X_train, y_train, validation_data=(X_test, y_test), epochs=10, batch_size=200)\n",
        "# Final evaluation of the model\n",
        "scores = model.evaluate(X_test, y_test, verbose=0)\n",
        "print(\"Large CNN Error: %.2f%%\" % (100-scores[1]*100))"
      ],
      "execution_count": 4,
      "outputs": [
        {
          "output_type": "stream",
          "text": [
            "WARNING:tensorflow:From /usr/local/lib/python3.6/dist-packages/tensorflow/python/framework/op_def_library.py:263: colocate_with (from tensorflow.python.framework.ops) is deprecated and will be removed in a future version.\n",
            "Instructions for updating:\n",
            "Colocations handled automatically by placer.\n",
            "WARNING:tensorflow:From /usr/local/lib/python3.6/dist-packages/keras/backend/tensorflow_backend.py:3445: calling dropout (from tensorflow.python.ops.nn_ops) with keep_prob is deprecated and will be removed in a future version.\n",
            "Instructions for updating:\n",
            "Please use `rate` instead of `keep_prob`. Rate should be set to `rate = 1 - keep_prob`.\n",
            "WARNING:tensorflow:From /usr/local/lib/python3.6/dist-packages/tensorflow/python/ops/math_ops.py:3066: to_int32 (from tensorflow.python.ops.math_ops) is deprecated and will be removed in a future version.\n",
            "Instructions for updating:\n",
            "Use tf.cast instead.\n",
            "Train on 60000 samples, validate on 10000 samples\n",
            "Epoch 1/10\n",
            "60000/60000 [==============================] - 67s 1ms/step - loss: 0.3915 - acc: 0.8804 - val_loss: 0.0885 - val_acc: 0.9714\n",
            "Epoch 2/10\n",
            "60000/60000 [==============================] - 66s 1ms/step - loss: 0.0998 - acc: 0.9698 - val_loss: 0.0544 - val_acc: 0.9824\n",
            "Epoch 3/10\n",
            "60000/60000 [==============================] - 66s 1ms/step - loss: 0.0738 - acc: 0.9773 - val_loss: 0.0395 - val_acc: 0.9879\n",
            "Epoch 4/10\n",
            "60000/60000 [==============================] - 66s 1ms/step - loss: 0.0609 - acc: 0.9816 - val_loss: 0.0358 - val_acc: 0.9874\n",
            "Epoch 5/10\n",
            "60000/60000 [==============================] - 66s 1ms/step - loss: 0.0517 - acc: 0.9836 - val_loss: 0.0361 - val_acc: 0.9885\n",
            "Epoch 6/10\n",
            "60000/60000 [==============================] - 66s 1ms/step - loss: 0.0448 - acc: 0.9857 - val_loss: 0.0299 - val_acc: 0.9903\n",
            "Epoch 7/10\n",
            "60000/60000 [==============================] - 65s 1ms/step - loss: 0.0398 - acc: 0.9878 - val_loss: 0.0315 - val_acc: 0.9901\n",
            "Epoch 8/10\n",
            "60000/60000 [==============================] - 65s 1ms/step - loss: 0.0360 - acc: 0.9884 - val_loss: 0.0273 - val_acc: 0.9905\n",
            "Epoch 9/10\n",
            "60000/60000 [==============================] - 65s 1ms/step - loss: 0.0328 - acc: 0.9898 - val_loss: 0.0237 - val_acc: 0.9925\n",
            "Epoch 10/10\n",
            "60000/60000 [==============================] - 65s 1ms/step - loss: 0.0307 - acc: 0.9904 - val_loss: 0.0292 - val_acc: 0.9905\n",
            "Large CNN Error: 0.95%\n"
          ],
          "name": "stdout"
        }
      ]
    },
    {
      "metadata": {
        "id": "5gGMLR3YAo1N",
        "colab_type": "code",
        "colab": {
          "base_uri": "https://localhost:8080/",
          "height": 50
        },
        "outputId": "e7bf445c-6cfd-423d-dd44-5f7ef45fc081"
      },
      "cell_type": "code",
      "source": [
        "!pip install -U -q PyDrive"
      ],
      "execution_count": 5,
      "outputs": [
        {
          "output_type": "stream",
          "text": [
            "\u001b[?25l\r\u001b[K    1% |▎                               | 10kB 18.0MB/s eta 0:00:01\r\u001b[K    2% |▋                               | 20kB 1.8MB/s eta 0:00:01\r\u001b[K    3% |█                               | 30kB 2.7MB/s eta 0:00:01\r\u001b[K    4% |█▎                              | 40kB 1.8MB/s eta 0:00:01\r\u001b[K    5% |█▋                              | 51kB 2.2MB/s eta 0:00:01\r\u001b[K    6% |██                              | 61kB 2.6MB/s eta 0:00:01\r\u001b[K    7% |██▎                             | 71kB 2.2MB/s eta 0:00:01\r\u001b[K    8% |██▋                             | 81kB 2.5MB/s eta 0:00:01\r\u001b[K    9% |███                             | 92kB 2.8MB/s eta 0:00:01\r\u001b[K    10% |███▎                            | 102kB 2.9MB/s eta 0:00:01\r\u001b[K    11% |███▋                            | 112kB 2.9MB/s eta 0:00:01\r\u001b[K    12% |████                            | 122kB 4.1MB/s eta 0:00:01\r\u001b[K    13% |████▎                           | 133kB 4.1MB/s eta 0:00:01\r\u001b[K    14% |████▋                           | 143kB 7.8MB/s eta 0:00:01\r\u001b[K    15% |█████                           | 153kB 4.9MB/s eta 0:00:01\r\u001b[K    16% |█████▎                          | 163kB 4.9MB/s eta 0:00:01\r\u001b[K    17% |█████▋                          | 174kB 8.1MB/s eta 0:00:01\r\u001b[K    18% |██████                          | 184kB 8.6MB/s eta 0:00:01\r\u001b[K    19% |██████▎                         | 194kB 8.7MB/s eta 0:00:01\r\u001b[K    20% |██████▋                         | 204kB 10.1MB/s eta 0:00:01\r\u001b[K    21% |███████                         | 215kB 8.6MB/s eta 0:00:01\r\u001b[K    22% |███████▎                        | 225kB 8.6MB/s eta 0:00:01\r\u001b[K    23% |███████▋                        | 235kB 8.7MB/s eta 0:00:01\r\u001b[K    24% |████████                        | 245kB 8.7MB/s eta 0:00:01\r\u001b[K    25% |████████▎                       | 256kB 25.1MB/s eta 0:00:01\r\u001b[K    26% |████████▋                       | 266kB 25.0MB/s eta 0:00:01\r\u001b[K    27% |█████████                       | 276kB 25.7MB/s eta 0:00:01\r\u001b[K    29% |█████████▎                      | 286kB 25.7MB/s eta 0:00:01\r\u001b[K    30% |█████████▋                      | 296kB 25.7MB/s eta 0:00:01\r\u001b[K    31% |██████████                      | 307kB 28.2MB/s eta 0:00:01\r\u001b[K    32% |██████████▎                     | 317kB 57.4MB/s eta 0:00:01\r\u001b[K    33% |██████████▋                     | 327kB 11.9MB/s eta 0:00:01\r\u001b[K    34% |███████████                     | 337kB 11.8MB/s eta 0:00:01\r\u001b[K    35% |███████████▎                    | 348kB 11.2MB/s eta 0:00:01\r\u001b[K    36% |███████████▋                    | 358kB 11.3MB/s eta 0:00:01\r\u001b[K    37% |████████████                    | 368kB 11.6MB/s eta 0:00:01\r\u001b[K    38% |████████████▎                   | 378kB 11.6MB/s eta 0:00:01\r\u001b[K    39% |████████████▋                   | 389kB 11.6MB/s eta 0:00:01\r\u001b[K    40% |█████████████                   | 399kB 11.7MB/s eta 0:00:01\r\u001b[K    41% |█████████████▎                  | 409kB 11.6MB/s eta 0:00:01\r\u001b[K    42% |█████████████▋                  | 419kB 11.6MB/s eta 0:00:01\r\u001b[K    43% |██████████████                  | 430kB 27.8MB/s eta 0:00:01\r\u001b[K    44% |██████████████▎                 | 440kB 28.1MB/s eta 0:00:01\r\u001b[K    45% |██████████████▋                 | 450kB 31.0MB/s eta 0:00:01\r\u001b[K    46% |███████████████                 | 460kB 30.8MB/s eta 0:00:01\r\u001b[K    47% |███████████████▎                | 471kB 31.3MB/s eta 0:00:01\r\u001b[K    48% |███████████████▋                | 481kB 31.5MB/s eta 0:00:01\r\u001b[K    49% |████████████████                | 491kB 31.3MB/s eta 0:00:01\r\u001b[K    50% |████████████████▎               | 501kB 31.2MB/s eta 0:00:01\r\u001b[K    51% |████████████████▋               | 512kB 30.0MB/s eta 0:00:01\r\u001b[K    52% |█████████████████               | 522kB 29.9MB/s eta 0:00:01\r\u001b[K    53% |█████████████████▎              | 532kB 59.9MB/s eta 0:00:01\r\u001b[K    54% |█████████████████▋              | 542kB 60.5MB/s eta 0:00:01\r\u001b[K    55% |██████████████████              | 552kB 65.2MB/s eta 0:00:01\r\u001b[K    57% |██████████████████▎             | 563kB 66.8MB/s eta 0:00:01\r\u001b[K    58% |██████████████████▋             | 573kB 66.2MB/s eta 0:00:01\r\u001b[K    59% |███████████████████             | 583kB 66.5MB/s eta 0:00:01\r\u001b[K    60% |███████████████████▎            | 593kB 67.9MB/s eta 0:00:01\r\u001b[K    61% |███████████████████▋            | 604kB 69.1MB/s eta 0:00:01\r\u001b[K    62% |████████████████████            | 614kB 77.9MB/s eta 0:00:01\r\u001b[K    63% |████████████████████▎           | 624kB 78.7MB/s eta 0:00:01\r\u001b[K    64% |████████████████████▋           | 634kB 77.8MB/s eta 0:00:01\r\u001b[K    65% |█████████████████████           | 645kB 77.3MB/s eta 0:00:01\r\u001b[K    66% |█████████████████████▎          | 655kB 79.6MB/s eta 0:00:01\r\u001b[K    67% |█████████████████████▋          | 665kB 58.7MB/s eta 0:00:01\r\u001b[K    68% |██████████████████████          | 675kB 56.9MB/s eta 0:00:01\r\u001b[K    69% |██████████████████████▎         | 686kB 56.5MB/s eta 0:00:01\r\u001b[K    70% |██████████████████████▋         | 696kB 17.0MB/s eta 0:00:01\r\u001b[K    71% |███████████████████████         | 706kB 16.9MB/s eta 0:00:01\r\u001b[K    72% |███████████████████████▎        | 716kB 16.9MB/s eta 0:00:01\r\u001b[K    73% |███████████████████████▋        | 727kB 16.8MB/s eta 0:00:01\r\u001b[K    74% |████████████████████████        | 737kB 16.7MB/s eta 0:00:01\r\u001b[K    75% |████████████████████████▎       | 747kB 16.7MB/s eta 0:00:01\r\u001b[K    76% |████████████████████████▋       | 757kB 16.7MB/s eta 0:00:01\r\u001b[K    77% |████████████████████████▉       | 768kB 18.1MB/s eta 0:00:01\r\u001b[K    78% |█████████████████████████▏      | 778kB 18.3MB/s eta 0:00:01\r\u001b[K    79% |█████████████████████████▌      | 788kB 18.2MB/s eta 0:00:01\r\u001b[K    80% |█████████████████████████▉      | 798kB 70.1MB/s eta 0:00:01\r\u001b[K    81% |██████████████████████████▏     | 808kB 71.0MB/s eta 0:00:01\r\u001b[K    82% |██████████████████████████▌     | 819kB 70.4MB/s eta 0:00:01\r\u001b[K    83% |██████████████████████████▉     | 829kB 73.9MB/s eta 0:00:01\r\u001b[K    85% |███████████████████████████▏    | 839kB 77.3MB/s eta 0:00:01\r\u001b[K    86% |███████████████████████████▌    | 849kB 78.3MB/s eta 0:00:01\r\u001b[K    87% |███████████████████████████▉    | 860kB 66.1MB/s eta 0:00:01\r\u001b[K    88% |████████████████████████████▏   | 870kB 37.8MB/s eta 0:00:01\r\u001b[K    89% |████████████████████████████▌   | 880kB 38.1MB/s eta 0:00:01\r\u001b[K    90% |████████████████████████████▉   | 890kB 38.6MB/s eta 0:00:01\r\u001b[K    91% |█████████████████████████████▏  | 901kB 38.9MB/s eta 0:00:01\r\u001b[K    92% |█████████████████████████████▌  | 911kB 39.2MB/s eta 0:00:01\r\u001b[K    93% |█████████████████████████████▉  | 921kB 39.5MB/s eta 0:00:01\r\u001b[K    94% |██████████████████████████████▏ | 931kB 39.1MB/s eta 0:00:01\r\u001b[K    95% |██████████████████████████████▌ | 942kB 38.9MB/s eta 0:00:01\r\u001b[K    96% |██████████████████████████████▉ | 952kB 38.7MB/s eta 0:00:01\r\u001b[K    97% |███████████████████████████████▏| 962kB 42.9MB/s eta 0:00:01\r\u001b[K    98% |███████████████████████████████▌| 972kB 83.4MB/s eta 0:00:01\r\u001b[K    99% |███████████████████████████████▉| 983kB 83.5MB/s eta 0:00:01\r\u001b[K    100% |████████████████████████████████| 993kB 22.4MB/s \n",
            "\u001b[?25h  Building wheel for PyDrive (setup.py) ... \u001b[?25ldone\n",
            "\u001b[?25h"
          ],
          "name": "stdout"
        }
      ]
    },
    {
      "metadata": {
        "id": "BkAr-6p9ugAy",
        "colab_type": "code",
        "colab": {}
      },
      "cell_type": "code",
      "source": [
        "from pydrive.auth import GoogleAuth\n",
        "from pydrive.drive import GoogleDrive\n",
        "from google.colab import auth\n",
        "from oauth2client.client import GoogleCredentials"
      ],
      "execution_count": 0,
      "outputs": []
    },
    {
      "metadata": {
        "id": "sxFWltmSxdIt",
        "colab_type": "code",
        "colab": {}
      },
      "cell_type": "code",
      "source": [
        "# 1. Authenticate and create the PyDrive client.\n",
        "auth.authenticate_user()\n",
        "gauth = GoogleAuth()\n",
        "gauth.credentials = GoogleCredentials.get_application_default()\n",
        "drive = GoogleDrive(gauth)"
      ],
      "execution_count": 0,
      "outputs": []
    },
    {
      "metadata": {
        "id": "R-k_r2p2xl5N",
        "colab_type": "code",
        "colab": {}
      },
      "cell_type": "code",
      "source": [
        "# 2. Save Keras Model or weights on google drive\n",
        "\n",
        "# create on Colab directory\n",
        "model.save('digitmodel.h5')    \n",
        "model_file = drive.CreateFile({'title' : 'digitmodel.h5'})\n",
        "model_file.SetContentFile('digitmodel.h5')\n",
        "model_file.Upload()"
      ],
      "execution_count": 0,
      "outputs": []
    },
    {
      "metadata": {
        "id": "tgrNWsBHyR5y",
        "colab_type": "code",
        "colab": {
          "base_uri": "https://localhost:8080/",
          "height": 34
        },
        "outputId": "8a78e16c-461f-46bf-d0f6-200c97a00829"
      },
      "cell_type": "code",
      "source": [
        "# download to google drive\n",
        "drive.CreateFile({'id': model_file.get('id')})"
      ],
      "execution_count": 10,
      "outputs": [
        {
          "output_type": "execute_result",
          "data": {
            "text/plain": [
              "GoogleDriveFile({'id': '1xSlkApoI1ymSvcwMiXR76-dU64ANTtPL'})"
            ]
          },
          "metadata": {
            "tags": []
          },
          "execution_count": 10
        }
      ]
    },
    {
      "metadata": {
        "id": "3iyWEaD6yXh-",
        "colab_type": "code",
        "colab": {
          "base_uri": "https://localhost:8080/",
          "height": 34
        },
        "outputId": "27379c96-60b7-4330-81ee-7e856c7c4e21"
      },
      "cell_type": "code",
      "source": [
        "model.save_weights('digitmodel_weights.h5')\n",
        "weights_file = drive.CreateFile({'title' : 'digitmodel_weights.h5'})\n",
        "weights_file.SetContentFile('digitmodel_weights.h5')\n",
        "weights_file.Upload()\n",
        "drive.CreateFile({'id': weights_file.get('id')})"
      ],
      "execution_count": 11,
      "outputs": [
        {
          "output_type": "execute_result",
          "data": {
            "text/plain": [
              "GoogleDriveFile({'id': '14N1X2rz1Czxyke68XgQd8Ck41BWd8OFl'})"
            ]
          },
          "metadata": {
            "tags": []
          },
          "execution_count": 11
        }
      ]
    },
    {
      "metadata": {
        "id": "meSzkOsJyjHb",
        "colab_type": "code",
        "colab": {}
      },
      "cell_type": "code",
      "source": [
        ""
      ],
      "execution_count": 0,
      "outputs": []
    }
  ]
}